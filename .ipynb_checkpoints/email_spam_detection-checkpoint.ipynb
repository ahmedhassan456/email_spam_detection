{
 "cells": [
  {
   "cell_type": "markdown",
   "id": "acded142-141c-46c8-98dd-e9b9c811f854",
   "metadata": {},
   "source": [
    "<div style=\"background-color: #180161; color: white; padding: 20px; border-radius: 10px;\">\n",
    "    <h2 style=\"text-align: center\">Import Necessary Libraries</h2>\n",
    "</div>"
   ]
  },
  {
   "cell_type": "code",
   "execution_count": null,
   "id": "658eb39f-15ea-4378-810b-8be1fc78caff",
   "metadata": {},
   "outputs": [],
   "source": []
  }
 ],
 "metadata": {
  "kernelspec": {
   "display_name": "Python 3 (ipykernel)",
   "language": "python",
   "name": "python3"
  },
  "language_info": {
   "codemirror_mode": {
    "name": "ipython",
    "version": 3
   },
   "file_extension": ".py",
   "mimetype": "text/x-python",
   "name": "python",
   "nbconvert_exporter": "python",
   "pygments_lexer": "ipython3",
   "version": "3.11.5"
  }
 },
 "nbformat": 4,
 "nbformat_minor": 5
}
