{
 "cells": [
  {
   "cell_type": "markdown",
   "id": "acded142-141c-46c8-98dd-e9b9c811f854",
   "metadata": {},
   "source": [
    "<div style=\"background-color: #180161; color: white; padding: 20px; border-radius: 10px;\">\n",
    "    <h2 style=\"text-align: center\">Import Necessary Libraries</h2>\n",
    "</div>"
   ]
  },
  {
   "cell_type": "code",
   "execution_count": 1,
   "id": "658eb39f-15ea-4378-810b-8be1fc78caff",
   "metadata": {},
   "outputs": [],
   "source": [
    "import numpy as np\n",
    "import pandas as pd\n",
    "import matplotlib.pyplot as plt\n",
    "import seaborn as sns\n",
    "\n",
    "from sklearn.feature_extraction.text import TfidfVectorizer\n",
    "from sklearn.model_selection import train_test_split\n",
    "from sklearn.svm import SVC\n",
    "from sklearn.naive_bayes import GaussianNB\n",
    "from sklearn.metrics import classification_report, confusion_matrix\n",
    "from imblearn.over_sampling import SMOTE\n",
    "\n",
    "import warnings\n",
    "warnings.filterwarnings(\"ignore\")"
   ]
  },
  {
   "cell_type": "markdown",
   "id": "fbd5ce21-9220-404c-9aca-b75dfd05352a",
   "metadata": {},
   "source": [
    "<div style=\"background-color: #180161; color: white; padding: 20px; border-radius: 10px;\">\n",
    "    <h2 style=\"text-align: center\">Load the Data</h2>\n",
    "</div>"
   ]
  },
  {
   "cell_type": "code",
   "execution_count": 2,
   "id": "29b8d064-97e2-466c-a1c7-e29b5c10ac37",
   "metadata": {},
   "outputs": [],
   "source": [
    "df = pd.read_csv(\"smsspamcollection.tsv\", sep=\"\\t\")"
   ]
  },
  {
   "cell_type": "code",
   "execution_count": 3,
   "id": "f685d8c3-4e0b-4f19-adff-2a2c699ac2b3",
   "metadata": {},
   "outputs": [
    {
     "data": {
      "text/html": [
       "<div>\n",
       "<style scoped>\n",
       "    .dataframe tbody tr th:only-of-type {\n",
       "        vertical-align: middle;\n",
       "    }\n",
       "\n",
       "    .dataframe tbody tr th {\n",
       "        vertical-align: top;\n",
       "    }\n",
       "\n",
       "    .dataframe thead th {\n",
       "        text-align: right;\n",
       "    }\n",
       "</style>\n",
       "<table border=\"1\" class=\"dataframe\">\n",
       "  <thead>\n",
       "    <tr style=\"text-align: right;\">\n",
       "      <th></th>\n",
       "      <th>label</th>\n",
       "      <th>message</th>\n",
       "      <th>length</th>\n",
       "      <th>punct</th>\n",
       "    </tr>\n",
       "  </thead>\n",
       "  <tbody>\n",
       "    <tr>\n",
       "      <th>0</th>\n",
       "      <td>ham</td>\n",
       "      <td>Go until jurong point, crazy.. Available only ...</td>\n",
       "      <td>111</td>\n",
       "      <td>9</td>\n",
       "    </tr>\n",
       "    <tr>\n",
       "      <th>1</th>\n",
       "      <td>ham</td>\n",
       "      <td>Ok lar... Joking wif u oni...</td>\n",
       "      <td>29</td>\n",
       "      <td>6</td>\n",
       "    </tr>\n",
       "    <tr>\n",
       "      <th>2</th>\n",
       "      <td>spam</td>\n",
       "      <td>Free entry in 2 a wkly comp to win FA Cup fina...</td>\n",
       "      <td>155</td>\n",
       "      <td>6</td>\n",
       "    </tr>\n",
       "    <tr>\n",
       "      <th>3</th>\n",
       "      <td>ham</td>\n",
       "      <td>U dun say so early hor... U c already then say...</td>\n",
       "      <td>49</td>\n",
       "      <td>6</td>\n",
       "    </tr>\n",
       "    <tr>\n",
       "      <th>4</th>\n",
       "      <td>ham</td>\n",
       "      <td>Nah I don't think he goes to usf, he lives aro...</td>\n",
       "      <td>61</td>\n",
       "      <td>2</td>\n",
       "    </tr>\n",
       "  </tbody>\n",
       "</table>\n",
       "</div>"
      ],
      "text/plain": [
       "  label                                            message  length  punct\n",
       "0   ham  Go until jurong point, crazy.. Available only ...     111      9\n",
       "1   ham                      Ok lar... Joking wif u oni...      29      6\n",
       "2  spam  Free entry in 2 a wkly comp to win FA Cup fina...     155      6\n",
       "3   ham  U dun say so early hor... U c already then say...      49      6\n",
       "4   ham  Nah I don't think he goes to usf, he lives aro...      61      2"
      ]
     },
     "execution_count": 3,
     "metadata": {},
     "output_type": "execute_result"
    }
   ],
   "source": [
    "df.head()"
   ]
  },
  {
   "cell_type": "code",
   "execution_count": 4,
   "id": "78718b3d-da93-4998-982c-9b4c22e6e9ad",
   "metadata": {},
   "outputs": [
    {
     "data": {
      "text/html": [
       "<div>\n",
       "<style scoped>\n",
       "    .dataframe tbody tr th:only-of-type {\n",
       "        vertical-align: middle;\n",
       "    }\n",
       "\n",
       "    .dataframe tbody tr th {\n",
       "        vertical-align: top;\n",
       "    }\n",
       "\n",
       "    .dataframe thead th {\n",
       "        text-align: right;\n",
       "    }\n",
       "</style>\n",
       "<table border=\"1\" class=\"dataframe\">\n",
       "  <thead>\n",
       "    <tr style=\"text-align: right;\">\n",
       "      <th></th>\n",
       "      <th>label</th>\n",
       "      <th>message</th>\n",
       "      <th>length</th>\n",
       "      <th>punct</th>\n",
       "    </tr>\n",
       "  </thead>\n",
       "  <tbody>\n",
       "    <tr>\n",
       "      <th>5567</th>\n",
       "      <td>spam</td>\n",
       "      <td>This is the 2nd time we have tried 2 contact u...</td>\n",
       "      <td>160</td>\n",
       "      <td>8</td>\n",
       "    </tr>\n",
       "    <tr>\n",
       "      <th>5568</th>\n",
       "      <td>ham</td>\n",
       "      <td>Will ü b going to esplanade fr home?</td>\n",
       "      <td>36</td>\n",
       "      <td>1</td>\n",
       "    </tr>\n",
       "    <tr>\n",
       "      <th>5569</th>\n",
       "      <td>ham</td>\n",
       "      <td>Pity, * was in mood for that. So...any other s...</td>\n",
       "      <td>57</td>\n",
       "      <td>7</td>\n",
       "    </tr>\n",
       "    <tr>\n",
       "      <th>5570</th>\n",
       "      <td>ham</td>\n",
       "      <td>The guy did some bitching but I acted like i'd...</td>\n",
       "      <td>125</td>\n",
       "      <td>1</td>\n",
       "    </tr>\n",
       "    <tr>\n",
       "      <th>5571</th>\n",
       "      <td>ham</td>\n",
       "      <td>Rofl. Its true to its name</td>\n",
       "      <td>26</td>\n",
       "      <td>1</td>\n",
       "    </tr>\n",
       "  </tbody>\n",
       "</table>\n",
       "</div>"
      ],
      "text/plain": [
       "     label                                            message  length  punct\n",
       "5567  spam  This is the 2nd time we have tried 2 contact u...     160      8\n",
       "5568   ham               Will ü b going to esplanade fr home?      36      1\n",
       "5569   ham  Pity, * was in mood for that. So...any other s...      57      7\n",
       "5570   ham  The guy did some bitching but I acted like i'd...     125      1\n",
       "5571   ham                         Rofl. Its true to its name      26      1"
      ]
     },
     "execution_count": 4,
     "metadata": {},
     "output_type": "execute_result"
    }
   ],
   "source": [
    "df.tail()"
   ]
  },
  {
   "cell_type": "markdown",
   "id": "7be7ba03-ff96-483e-8470-05e0646c5054",
   "metadata": {},
   "source": [
    "<div style=\"background-color: #180161; color: white; padding: 20px; border-radius: 10px;\">\n",
    "    <h2 style=\"text-align: center\">Sanity Check of Data</h2>\n",
    "</div>"
   ]
  },
  {
   "cell_type": "code",
   "execution_count": 5,
   "id": "23681dd9-92a0-40d6-82dd-6d3081225a35",
   "metadata": {},
   "outputs": [
    {
     "data": {
      "text/plain": [
       "(5572, 4)"
      ]
     },
     "execution_count": 5,
     "metadata": {},
     "output_type": "execute_result"
    }
   ],
   "source": [
    "df.shape"
   ]
  },
  {
   "cell_type": "code",
   "execution_count": 6,
   "id": "2370f6e5-3e28-440c-82be-8448ed1c4ed9",
   "metadata": {},
   "outputs": [
    {
     "name": "stdout",
     "output_type": "stream",
     "text": [
      "<class 'pandas.core.frame.DataFrame'>\n",
      "RangeIndex: 5572 entries, 0 to 5571\n",
      "Data columns (total 4 columns):\n",
      " #   Column   Non-Null Count  Dtype \n",
      "---  ------   --------------  ----- \n",
      " 0   label    5572 non-null   object\n",
      " 1   message  5572 non-null   object\n",
      " 2   length   5572 non-null   int64 \n",
      " 3   punct    5572 non-null   int64 \n",
      "dtypes: int64(2), object(2)\n",
      "memory usage: 174.3+ KB\n"
     ]
    }
   ],
   "source": [
    "df.info()"
   ]
  },
  {
   "cell_type": "code",
   "execution_count": 8,
   "id": "249b9936-65c4-45c5-81de-489e8de73a8c",
   "metadata": {},
   "outputs": [
    {
     "data": {
      "text/plain": [
       "label      0\n",
       "message    0\n",
       "length     0\n",
       "punct      0\n",
       "dtype: int64"
      ]
     },
     "execution_count": 8,
     "metadata": {},
     "output_type": "execute_result"
    }
   ],
   "source": [
    "df.isnull().sum()"
   ]
  },
  {
   "cell_type": "code",
   "execution_count": 10,
   "id": "5205f53a-3565-4647-ae87-a317b174a9d6",
   "metadata": {},
   "outputs": [
    {
     "data": {
      "text/plain": [
       "403"
      ]
     },
     "execution_count": 10,
     "metadata": {},
     "output_type": "execute_result"
    }
   ],
   "source": [
    "df.duplicated().sum()"
   ]
  },
  {
   "cell_type": "code",
   "execution_count": 14,
   "id": "1da99d71-84c7-4d06-aa5e-0e5356511be3",
   "metadata": {},
   "outputs": [
    {
     "data": {
      "text/plain": [
       "label\n",
       "ham     4825\n",
       "spam     747\n",
       "Name: count, dtype: int64"
      ]
     },
     "execution_count": 14,
     "metadata": {},
     "output_type": "execute_result"
    }
   ],
   "source": [
    "df['label'].value_counts()"
   ]
  },
  {
   "cell_type": "markdown",
   "id": "7e73b768-db78-456a-8f68-8d14ee73c73a",
   "metadata": {},
   "source": [
    "<div style=\"background-color: #180161; color: white; padding: 20px; border-radius: 10px;\">\n",
    "    <h2 style=\"text-align: center\">Exploratory Data Anlaysis (EDA)</h2>\n",
    "</div>"
   ]
  },
  {
   "cell_type": "code",
   "execution_count": 13,
   "id": "ef9e5e7d-a34a-4a78-8a86-0aa17d33ed9a",
   "metadata": {},
   "outputs": [
    {
     "data": {
      "text/html": [
       "<style type=\"text/css\">\n",
       "#T_6a94b_row0_col0, #T_6a94b_row1_col0, #T_6a94b_row1_col1, #T_6a94b_row1_col2, #T_6a94b_row1_col3, #T_6a94b_row1_col4, #T_6a94b_row1_col5, #T_6a94b_row1_col6, #T_6a94b_row1_col7 {\n",
       "  background-color: #440154;\n",
       "  color: #f1f1f1;\n",
       "}\n",
       "#T_6a94b_row0_col1, #T_6a94b_row0_col2, #T_6a94b_row0_col3, #T_6a94b_row0_col4, #T_6a94b_row0_col5, #T_6a94b_row0_col6, #T_6a94b_row0_col7 {\n",
       "  background-color: #fde725;\n",
       "  color: #000000;\n",
       "}\n",
       "</style>\n",
       "<table id=\"T_6a94b\">\n",
       "  <thead>\n",
       "    <tr>\n",
       "      <th class=\"blank level0\" >&nbsp;</th>\n",
       "      <th id=\"T_6a94b_level0_col0\" class=\"col_heading level0 col0\" >count</th>\n",
       "      <th id=\"T_6a94b_level0_col1\" class=\"col_heading level0 col1\" >mean</th>\n",
       "      <th id=\"T_6a94b_level0_col2\" class=\"col_heading level0 col2\" >std</th>\n",
       "      <th id=\"T_6a94b_level0_col3\" class=\"col_heading level0 col3\" >min</th>\n",
       "      <th id=\"T_6a94b_level0_col4\" class=\"col_heading level0 col4\" >25%</th>\n",
       "      <th id=\"T_6a94b_level0_col5\" class=\"col_heading level0 col5\" >50%</th>\n",
       "      <th id=\"T_6a94b_level0_col6\" class=\"col_heading level0 col6\" >75%</th>\n",
       "      <th id=\"T_6a94b_level0_col7\" class=\"col_heading level0 col7\" >max</th>\n",
       "    </tr>\n",
       "  </thead>\n",
       "  <tbody>\n",
       "    <tr>\n",
       "      <th id=\"T_6a94b_level0_row0\" class=\"row_heading level0 row0\" >length</th>\n",
       "      <td id=\"T_6a94b_row0_col0\" class=\"data row0 col0\" >5572.000000</td>\n",
       "      <td id=\"T_6a94b_row0_col1\" class=\"data row0 col1\" >80.489950</td>\n",
       "      <td id=\"T_6a94b_row0_col2\" class=\"data row0 col2\" >59.942907</td>\n",
       "      <td id=\"T_6a94b_row0_col3\" class=\"data row0 col3\" >2.000000</td>\n",
       "      <td id=\"T_6a94b_row0_col4\" class=\"data row0 col4\" >36.000000</td>\n",
       "      <td id=\"T_6a94b_row0_col5\" class=\"data row0 col5\" >62.000000</td>\n",
       "      <td id=\"T_6a94b_row0_col6\" class=\"data row0 col6\" >122.000000</td>\n",
       "      <td id=\"T_6a94b_row0_col7\" class=\"data row0 col7\" >910.000000</td>\n",
       "    </tr>\n",
       "    <tr>\n",
       "      <th id=\"T_6a94b_level0_row1\" class=\"row_heading level0 row1\" >punct</th>\n",
       "      <td id=\"T_6a94b_row1_col0\" class=\"data row1 col0\" >5572.000000</td>\n",
       "      <td id=\"T_6a94b_row1_col1\" class=\"data row1 col1\" >4.177495</td>\n",
       "      <td id=\"T_6a94b_row1_col2\" class=\"data row1 col2\" >4.623919</td>\n",
       "      <td id=\"T_6a94b_row1_col3\" class=\"data row1 col3\" >0.000000</td>\n",
       "      <td id=\"T_6a94b_row1_col4\" class=\"data row1 col4\" >2.000000</td>\n",
       "      <td id=\"T_6a94b_row1_col5\" class=\"data row1 col5\" >3.000000</td>\n",
       "      <td id=\"T_6a94b_row1_col6\" class=\"data row1 col6\" >6.000000</td>\n",
       "      <td id=\"T_6a94b_row1_col7\" class=\"data row1 col7\" >133.000000</td>\n",
       "    </tr>\n",
       "  </tbody>\n",
       "</table>\n"
      ],
      "text/plain": [
       "<pandas.io.formats.style.Styler at 0x22a08454dd0>"
      ]
     },
     "execution_count": 13,
     "metadata": {},
     "output_type": "execute_result"
    }
   ],
   "source": [
    "# descriptive statistics\n",
    "numerical_summary = df.describe().transpose()\n",
    "\n",
    "palette = sns.color_palette(\"viridis\", as_cmap=True)\n",
    "\n",
    "numerical_summary.style.background_gradient(cmap=palette)"
   ]
  },
  {
   "cell_type": "code",
   "execution_count": null,
   "id": "102f9ee6-2827-41cb-b9a9-5f180a50b061",
   "metadata": {},
   "outputs": [],
   "source": []
  }
 ],
 "metadata": {
  "kernelspec": {
   "display_name": "Python 3 (ipykernel)",
   "language": "python",
   "name": "python3"
  },
  "language_info": {
   "codemirror_mode": {
    "name": "ipython",
    "version": 3
   },
   "file_extension": ".py",
   "mimetype": "text/x-python",
   "name": "python",
   "nbconvert_exporter": "python",
   "pygments_lexer": "ipython3",
   "version": "3.11.5"
  }
 },
 "nbformat": 4,
 "nbformat_minor": 5
}
